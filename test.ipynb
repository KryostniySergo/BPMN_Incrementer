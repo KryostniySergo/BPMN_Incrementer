{
 "cells": [
  {
   "cell_type": "code",
   "execution_count": null,
   "metadata": {},
   "outputs": [],
   "source": [
    "massiv = []\n",
    "\n",
    "for i in range(10):\n",
    "    massiv.append(f'name=\"4.{i+1}')\n",
    "\n",
    "for i in range(10):\n",
    "    massiv.append(f'name=\"5.2.{i+1}')\n",
    "\n",
    "massiv.append('name=\"5.4.2')\n",
    "\n",
    "massiv"
   ]
  },
  {
   "cell_type": "code",
   "execution_count": null,
   "metadata": {},
   "outputs": [],
   "source": [
    "import re\n",
    "\n",
    "pattern = r\"((\\d{1,2})\\.?(\\d{1,2})?\\.?(\\d{1,2})?)\"\n",
    "\n",
    "input_string = \"5.2\"\n",
    "\n",
    "test_match = re.search(pattern, input_string)\n",
    "\n",
    "if test_match is None:\n",
    "    raise Exception(\"кал\")\n",
    "test_match"
   ]
  },
  {
   "cell_type": "code",
   "execution_count": null,
   "metadata": {},
   "outputs": [],
   "source": [
    "import re\n",
    "\n",
    "\n",
    "def choose_pattern(template: re.Match) -> str:\n",
    "    first_number: str = template.group(2)\n",
    "    second_number: str = template.group(3)\n",
    "    last_number: str = template.group(4)\n",
    "\n",
    "    if last_number:\n",
    "        return r\"name=\\\"(\" + first_number + r\"\\.\" + second_number + r\"\\.?(\\d{1,2})?)\"\n",
    "    elif second_number:\n",
    "        return r\"name=\\\"(\" + first_number + r\"\\.?(\\d{1,2})?)\"\n",
    "    else:\n",
    "        return r\"name=\\\"((\" + first_number + r\")\\.)\"\n",
    "\n",
    "\n",
    "def choose_replacment_str(template: re.Match, match: re.Match) -> str:\n",
    "    first_number: str = template.group(2)\n",
    "    second_number: str = template.group(3)\n",
    "    last_number: str = template.group(4)\n",
    "\n",
    "    if last_number:\n",
    "        return f'name=\"{first_number}.{second_number}.{int(match.group(2)) + 1}'\n",
    "    elif second_number:\n",
    "        return f'name=\"{first_number}.{int(match.group(2)) + 1}'\n",
    "    else:\n",
    "        return f'name=\"{int(match.group(2)) + 1}.'\n",
    "\n",
    "\n",
    "def retry_or_continue(template: re.Match, match: re.Match) -> bool:\n",
    "    first_number: str = template.group(2)\n",
    "    second_number: str = template.group(3)\n",
    "    last_number: str = template.group(4)\n",
    "\n",
    "    if last_number and int(last_number) > int(match.group(2)):\n",
    "        return True\n",
    "    elif second_number and int(second_number) > int(match.group(2)):\n",
    "        return True\n",
    "    elif (\n",
    "        not last_number\n",
    "        and not second_number\n",
    "        and int(first_number) < int(match.group(2))\n",
    "    ):\n",
    "        return True\n",
    "\n",
    "    return False\n",
    "\n",
    "\n",
    "def incriment_strings(sorted_string: list[str], template: re.Match) -> None:\n",
    "    pattern: str = choose_pattern(template)\n",
    "\n",
    "    for i in range(len(sorted_string)):\n",
    "        match: re.Match | None = re.search(pattern, sorted_string[i])\n",
    "        if match is None:\n",
    "            continue\n",
    "        if retry_or_continue(template, match):\n",
    "            continue\n",
    "\n",
    "        replacment_str: str = choose_replacment_str(template, match)\n",
    "\n",
    "        sorted_string[i] = sorted_string[i].replace(\n",
    "            f'name=\"{match.group(1)}',\n",
    "            replacment_str,\n",
    "        )\n",
    "\n",
    "incriment_strings(massiv, test_match) # type: ignore\n",
    "massiv\n"
   ]
  },
  {
   "cell_type": "code",
   "execution_count": null,
   "metadata": {},
   "outputs": [],
   "source": [
    "import re\n",
    "pattern = r\"name=\\\"((\" + \"4\" + r\")\\.)\"\n",
    "\n",
    "for i, el in enumerate(massiv):\n",
    "    match = re.search(pattern, el)\n",
    "    if match:\n",
    "        print(match.string)\n",
    "\n"
   ]
  },
  {
   "cell_type": "code",
   "execution_count": null,
   "metadata": {},
   "outputs": [],
   "source": [
    "def cal(match: re.Match):\n",
    "    \n",
    "    return  f'{match.group(2)}.{match.group(3)}.{int(match.group(4)) + 1}'\n",
    "\n",
    "for i in range(len(massiv)):\n",
    "    test = re.sub(pattern, cal, massiv[i])\n",
    "    massiv[i] = test\n",
    "massiv"
   ]
  },
  {
   "cell_type": "code",
   "execution_count": null,
   "metadata": {},
   "outputs": [],
   "source": [
    "new_pattern = match.group(2) + r\"\\.\" + match.group(3) + r\"\\.?(\\d{1,2})?\" #r\"(5\\.?2\\.?(\\d{1,2})?)\"\n",
    "for i in range(len(massiv)):\n",
    "    new_match = re.search(new_pattern, massiv[i])\n",
    "    if new_match:\n",
    "        massiv[i] = massiv[i].replace(f'name=\"{new_match.group(0)}', f'name=\"{match.group(2)}.{match.group(3)}.{int(new_match.group(1)) + 1}')\n",
    "massiv"
   ]
  },
  {
   "cell_type": "code",
   "execution_count": null,
   "metadata": {},
   "outputs": [],
   "source": []
  }
 ],
 "metadata": {
  "kernelspec": {
   "display_name": "Python 3",
   "language": "python",
   "name": "python3"
  },
  "language_info": {
   "codemirror_mode": {
    "name": "ipython",
    "version": 3
   },
   "file_extension": ".py",
   "mimetype": "text/x-python",
   "name": "python",
   "nbconvert_exporter": "python",
   "pygments_lexer": "ipython3",
   "version": "3.12.2"
  }
 },
 "nbformat": 4,
 "nbformat_minor": 2
}
