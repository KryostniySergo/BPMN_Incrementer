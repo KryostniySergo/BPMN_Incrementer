{
 "cells": [
  {
   "cell_type": "code",
   "execution_count": 2,
   "metadata": {},
   "outputs": [
    {
     "data": {
      "text/plain": [
       "['name=\"4.1',\n",
       " 'name=\"4.2',\n",
       " 'name=\"4.3',\n",
       " 'name=\"4.4',\n",
       " 'name=\"4.5',\n",
       " 'name=\"4.6',\n",
       " 'name=\"4.7',\n",
       " 'name=\"4.8',\n",
       " 'name=\"4.9',\n",
       " 'name=\"4.10',\n",
       " 'name=\"5.2.1',\n",
       " 'name=\"5.2.2',\n",
       " 'name=\"5.2.3',\n",
       " 'name=\"5.2.4',\n",
       " 'name=\"5.2.5',\n",
       " 'name=\"5.2.6',\n",
       " 'name=\"5.2.7',\n",
       " 'name=\"5.2.8',\n",
       " 'name=\"5.2.9',\n",
       " 'name=\"5.2.10']"
      ]
     },
     "execution_count": 2,
     "metadata": {},
     "output_type": "execute_result"
    }
   ],
   "source": [
    "massiv = []\n",
    "\n",
    "for i in range(10):\n",
    "    massiv.append(f'name=\"4.{i+1}')\n",
    "\n",
    "for i in range(10):\n",
    "    massiv.append(f'name=\"5.2.{i+1}')\n",
    "\n",
    "massiv"
   ]
  },
  {
   "cell_type": "code",
   "execution_count": 3,
   "metadata": {},
   "outputs": [
    {
     "data": {
      "text/plain": [
       "<re.Match object; span=(0, 3), match='5.2'>"
      ]
     },
     "execution_count": 3,
     "metadata": {},
     "output_type": "execute_result"
    }
   ],
   "source": [
    "import re\n",
    "\n",
    "pattern = r\"((\\d{1,2})\\.?(\\d{1,2})?\\.?(\\d{1,2})?)\"\n",
    "\n",
    "input_string = \"5.2\"\n",
    "\n",
    "match = re.search(pattern, input_string)\n",
    "\n",
    "if match is None:\n",
    "    raise Exception(\"кал\")\n",
    "match"
   ]
  },
  {
   "cell_type": "code",
   "execution_count": null,
   "metadata": {},
   "outputs": [],
   "source": [
    "def cal(match: re.Match):\n",
    "    \n",
    "    return  f'{match.group(2)}.{match.group(3)}.{int(match.group(4)) + 1}'\n",
    "\n",
    "for i in range(len(massiv)):\n",
    "    test = re.sub(pattern, cal, massiv[i])\n",
    "    massiv[i] = test\n",
    "massiv"
   ]
  },
  {
   "cell_type": "code",
   "execution_count": 4,
   "metadata": {},
   "outputs": [
    {
     "data": {
      "text/plain": [
       "['name=\"4.1',\n",
       " 'name=\"4.2',\n",
       " 'name=\"4.3',\n",
       " 'name=\"4.4',\n",
       " 'name=\"4.5',\n",
       " 'name=\"4.6',\n",
       " 'name=\"4.7',\n",
       " 'name=\"4.8',\n",
       " 'name=\"4.9',\n",
       " 'name=\"4.10',\n",
       " 'name=\"5.2.2',\n",
       " 'name=\"5.2.3',\n",
       " 'name=\"5.2.4',\n",
       " 'name=\"5.2.5',\n",
       " 'name=\"5.2.6',\n",
       " 'name=\"5.2.7',\n",
       " 'name=\"5.2.8',\n",
       " 'name=\"5.2.9',\n",
       " 'name=\"5.2.10',\n",
       " 'name=\"5.2.11']"
      ]
     },
     "execution_count": 4,
     "metadata": {},
     "output_type": "execute_result"
    }
   ],
   "source": [
    "new_pattern = match.group(2) + r\"\\.\" + match.group(3) + r\"\\.?(\\d{1,2})?\" #r\"(5\\.?2\\.?(\\d{1,2})?)\"\n",
    "for i in range(len(massiv)):\n",
    "    new_match = re.search(new_pattern, massiv[i])\n",
    "    if new_match:\n",
    "        massiv[i] = massiv[i].replace(f'name=\"{new_match.group(0)}', f'name=\"{match.group(2)}.{match.group(3)}.{int(new_match.group(1)) + 1}')\n",
    "massiv"
   ]
  },
  {
   "cell_type": "code",
   "execution_count": null,
   "metadata": {},
   "outputs": [],
   "source": []
  }
 ],
 "metadata": {
  "kernelspec": {
   "display_name": "Python 3",
   "language": "python",
   "name": "python3"
  },
  "language_info": {
   "codemirror_mode": {
    "name": "ipython",
    "version": 3
   },
   "file_extension": ".py",
   "mimetype": "text/x-python",
   "name": "python",
   "nbconvert_exporter": "python",
   "pygments_lexer": "ipython3",
   "version": "3.12.2"
  }
 },
 "nbformat": 4,
 "nbformat_minor": 2
}
